{
 "cells": [
  {
   "cell_type": "markdown",
   "metadata": {},
   "source": [
    "1. [Glob Module](#Glob)\n",
    "1. [Date time Module](#Datetime)"
   ]
  },
  {
   "cell_type": "code",
   "execution_count": 1,
   "metadata": {},
   "outputs": [],
   "source": [
    "import os\n",
    "import glob"
   ]
  },
  {
   "cell_type": "code",
   "execution_count": 15,
   "metadata": {},
   "outputs": [],
   "source": [
    "wd = 'C:\\\\Users\\\\chira\\\\Desktop\\\\CPP practice problems\\\\'"
   ]
  },
  {
   "cell_type": "code",
   "execution_count": 17,
   "metadata": {},
   "outputs": [
    {
     "data": {
      "text/plain": [
       "['Strings', 'tempCodeRunnerFile.cpp', 'tempCodeRunnerFile.exe', 'Tree', 'Trie']"
      ]
     },
     "execution_count": 17,
     "metadata": {},
     "output_type": "execute_result"
    }
   ],
   "source": [
    "os.listdir(wd)[-5:]"
   ]
  },
  {
   "cell_type": "code",
   "execution_count": 19,
   "metadata": {},
   "outputs": [
    {
     "data": {
      "text/plain": [
       "['AddNum.cpp', 'AddNum.exe', 'GroupAnagrams.cpp']"
      ]
     },
     "execution_count": 19,
     "metadata": {},
     "output_type": "execute_result"
    }
   ],
   "source": [
    "os.listdir(os.path.join(wd,'Strings'))[:3]"
   ]
  },
  {
   "cell_type": "markdown",
   "metadata": {},
   "source": [
    "# Glob\n",
    "the glob module is used to retrieve files/pathnames matching a specified pattern"
   ]
  },
  {
   "cell_type": "code",
   "execution_count": 6,
   "metadata": {},
   "outputs": [],
   "source": []
  },
  {
   "cell_type": "code",
   "execution_count": 13,
   "metadata": {},
   "outputs": [
    {
     "name": "stdout",
     "output_type": "stream",
     "text": [
      "C:\\Users\\chira\\Desktop\\CPP practice problems\\Arrays\\2DmatrixSearch.cpp\n",
      "C:\\Users\\chira\\Desktop\\CPP practice problems\\Arrays\\3Sum.cpp\n",
      "C:\\Users\\chira\\Desktop\\CPP practice problems\\Arrays\\CheckPointsCollinear.cpp\n",
      "C:\\Users\\chira\\Desktop\\CPP practice problems\\Arrays\\ContainerWithMostWater.cpp\n",
      "C:\\Users\\chira\\Desktop\\CPP practice problems\\Arrays\\CountNumTeams.cpp\n",
      "C:\\Users\\chira\\Desktop\\CPP practice problems\\Arrays\\DailyTemperatures.cpp\n",
      "C:\\Users\\chira\\Desktop\\CPP practice problems\\Arrays\\FillSpiral.cpp\n",
      "C:\\Users\\chira\\Desktop\\CPP practice problems\\Arrays\\IncreasingTripletSubsequence.cpp\n",
      "C:\\Users\\chira\\Desktop\\CPP practice problems\\Arrays\\inPlaceColorSort.cpp\n",
      "C:\\Users\\chira\\Desktop\\CPP practice problems\\Arrays\\JosephusGame.cpp\n",
      "C:\\Users\\chira\\Desktop\\CPP practice problems\\Arrays\\KadaneAlgorithm.cpp\n",
      "C:\\Users\\chira\\Desktop\\CPP practice problems\\Arrays\\MergeIntervals.cpp\n",
      "C:\\Users\\chira\\Desktop\\CPP practice problems\\Arrays\\NextGreaterElement_II.cpp\n",
      "C:\\Users\\chira\\Desktop\\CPP practice problems\\Arrays\\NextPermutation.cpp\n",
      "C:\\Users\\chira\\Desktop\\CPP practice problems\\Arrays\\NextPermutation_digits.cpp\n",
      "C:\\Users\\chira\\Desktop\\CPP practice problems\\Arrays\\ProductExceptSelf.cpp\n",
      "C:\\Users\\chira\\Desktop\\CPP practice problems\\Arrays\\RemoveOverlapInterval.cpp\n",
      "C:\\Users\\chira\\Desktop\\CPP practice problems\\Arrays\\RotateImage.cpp\n",
      "C:\\Users\\chira\\Desktop\\CPP practice problems\\Arrays\\Rotate_array.cpp\n",
      "C:\\Users\\chira\\Desktop\\CPP practice problems\\Arrays\\SearchRotatedSortedArray.cpp\n",
      "C:\\Users\\chira\\Desktop\\CPP practice problems\\Arrays\\singleNumber.cpp\n",
      "C:\\Users\\chira\\Desktop\\CPP practice problems\\Arrays\\StockSpan.cpp\n",
      "C:\\Users\\chira\\Desktop\\CPP practice problems\\Arrays\\SubarraySumEqualsK_PrefixSum.cpp\n",
      "C:\\Users\\chira\\Desktop\\CPP practice problems\\Arrays\\SumSubarrayMins.cpp\n",
      "C:\\Users\\chira\\Desktop\\CPP practice problems\\Arrays\\TrappingRainWater.cpp\n",
      "C:\\Users\\chira\\Desktop\\CPP practice problems\\Arrays\\TwoSum_umap.cpp\n",
      "C:\\Users\\chira\\Desktop\\CPP practice problems\\Backtracking\\CombinationSum.cpp\n",
      "C:\\Users\\chira\\Desktop\\CPP practice problems\\Backtracking\\GenerateValidParenthesis.cpp\n",
      "C:\\Users\\chira\\Desktop\\CPP practice problems\\Backtracking\\LetterCombinationPhoneNumber.cpp\n",
      "C:\\Users\\chira\\Desktop\\CPP practice problems\\Backtracking\\Permutations.cpp\n",
      "C:\\Users\\chira\\Desktop\\CPP practice problems\\BST\\Increasing order search tree(Inorder BST).cpp\n",
      "C:\\Users\\chira\\Desktop\\CPP practice problems\\BST\\is_bst.cpp\n",
      "C:\\Users\\chira\\Desktop\\CPP practice problems\\BST\\is_bst_dupes_allowed.cpp\n",
      "C:\\Users\\chira\\Desktop\\CPP practice problems\\BST\\MakeBST_preorderTraversal.cpp\n",
      "C:\\Users\\chira\\Desktop\\CPP practice problems\\BST\\NumberUniqueBSTs.cpp\n",
      "C:\\Users\\chira\\Desktop\\CPP practice problems\\BST\\RangeSearchWithoutParent.cpp\n",
      "C:\\Users\\chira\\Desktop\\CPP practice problems\\Divide and Conquer\\binarySearchRangeFind.cpp\n",
      "C:\\Users\\chira\\Desktop\\CPP practice problems\\Divide and Conquer\\binary_search.cpp\n",
      "C:\\Users\\chira\\Desktop\\CPP practice problems\\Divide and Conquer\\inversions - Copy.cpp\n",
      "C:\\Users\\chira\\Desktop\\CPP practice problems\\Divide and Conquer\\majority_element.cpp\n",
      "C:\\Users\\chira\\Desktop\\CPP practice problems\\Divide and Conquer\\Moore's voting algo_Majority Element.cpp\n",
      "C:\\Users\\chira\\Desktop\\CPP practice problems\\Divide and Conquer\\Quicksort.cpp\n",
      "C:\\Users\\chira\\Desktop\\CPP practice problems\\Divide and Conquer\\ReverseBits.cpp\n",
      "C:\\Users\\chira\\Desktop\\CPP practice problems\\Divide and Conquer\\tempCodeRunnerFile.cpp\n",
      "C:\\Users\\chira\\Desktop\\CPP practice problems\\Dynamic programming\\ClimbStairs.cpp\n",
      "C:\\Users\\chira\\Desktop\\CPP practice problems\\Dynamic programming\\Count number of paths_GFG.cpp\n",
      "C:\\Users\\chira\\Desktop\\CPP practice problems\\Dynamic programming\\countNumSubsetWGivenDiff.cpp\n",
      "C:\\Users\\chira\\Desktop\\CPP practice problems\\Dynamic programming\\Count_unique_paths_withObstacles.cpp\n",
      "C:\\Users\\chira\\Desktop\\CPP practice problems\\Dynamic programming\\Edit_Distance.cpp\n",
      "C:\\Users\\chira\\Desktop\\CPP practice problems\\Dynamic programming\\HouseRobber.cpp\n",
      "C:\\Users\\chira\\Desktop\\CPP practice problems\\Dynamic programming\\knapsack.cpp\n",
      "C:\\Users\\chira\\Desktop\\CPP practice problems\\Dynamic programming\\knapsack_memoization_Working.cpp\n",
      "C:\\Users\\chira\\Desktop\\CPP practice problems\\Dynamic programming\\LCS_3Strings.cpp\n",
      "C:\\Users\\chira\\Desktop\\CPP practice problems\\Dynamic programming\\LongestCommonSubsequence.cpp\n",
      "C:\\Users\\chira\\Desktop\\CPP practice problems\\Dynamic programming\\LongestIncreasingSubsequence.cpp\n",
      "C:\\Users\\chira\\Desktop\\CPP practice problems\\Dynamic programming\\Longest_common_substring.cpp\n",
      "C:\\Users\\chira\\Desktop\\CPP practice problems\\Dynamic programming\\MinCostPath.cpp\n",
      "C:\\Users\\chira\\Desktop\\CPP practice problems\\Dynamic programming\\MinCostTreeFromLeafValues.cpp\n",
      "C:\\Users\\chira\\Desktop\\CPP practice problems\\Dynamic programming\\Minimum subset sum problem.cpp\n",
      "C:\\Users\\chira\\Desktop\\CPP practice problems\\Dynamic programming\\Money change.cpp\n",
      "C:\\Users\\chira\\Desktop\\CPP practice problems\\Dynamic programming\\PascalsTriangle.cpp\n",
      "C:\\Users\\chira\\Desktop\\CPP practice problems\\Dynamic programming\\primitive_calculator.cpp\n",
      "C:\\Users\\chira\\Desktop\\CPP practice problems\\Dynamic programming\\Re-Primitive_calc.cpp\n",
      "C:\\Users\\chira\\Desktop\\CPP practice problems\\Dynamic programming\\Rod_cutting_problem.cpp\n",
      "C:\\Users\\chira\\Desktop\\CPP practice problems\\Dynamic programming\\tempCodeRunnerFile.cpp\n",
      "C:\\Users\\chira\\Desktop\\CPP practice problems\\Dynamic programming\\unboundedKnapsack.cpp\n",
      "C:\\Users\\chira\\Desktop\\CPP practice problems\\Fenwick Tree\\Fenwick_tree_Implementation.cpp\n",
      "C:\\Users\\chira\\Desktop\\CPP practice problems\\Graphs\\BellmanFord_testcasefailed.cpp\n",
      "C:\\Users\\chira\\Desktop\\CPP practice problems\\Graphs\\bfs.cpp\n",
      "C:\\Users\\chira\\Desktop\\CPP practice problems\\Graphs\\bipartite_testIncomplete.cpp\n",
      "C:\\Users\\chira\\Desktop\\CPP practice problems\\Graphs\\clustering_Kruskals.cpp\n",
      "C:\\Users\\chira\\Desktop\\CPP practice problems\\Graphs\\DetectCyclesGraph.cpp\n",
      "C:\\Users\\chira\\Desktop\\CPP practice problems\\Graphs\\dijkstra.cpp\n",
      "C:\\Users\\chira\\Desktop\\CPP practice problems\\Graphs\\Kruskal_disjointSet_UnionByRank.cpp\n",
      "C:\\Users\\chira\\Desktop\\CPP practice problems\\Graphs\\negative_cycle.cpp\n",
      "C:\\Users\\chira\\Desktop\\CPP practice problems\\Graphs\\OrderOfCourses.cpp\n",
      "C:\\Users\\chira\\Desktop\\CPP practice problems\\Graphs\\PrimsMST_PQimplementedFromScratch.cpp\n",
      "C:\\Users\\chira\\Desktop\\CPP practice problems\\Graphs\\reachabilityNew.cpp\n",
      "C:\\Users\\chira\\Desktop\\CPP practice problems\\Graphs\\RottenOranges.cpp\n",
      "C:\\Users\\chira\\Desktop\\CPP practice problems\\Graphs\\SafeStates_cycle.cpp\n",
      "C:\\Users\\chira\\Desktop\\CPP practice problems\\Graphs\\strongly_connected_components.cpp\n",
      "C:\\Users\\chira\\Desktop\\CPP practice problems\\Graphs\\topologicalSort.cpp\n",
      "C:\\Users\\chira\\Desktop\\CPP practice problems\\Greedy Algorithms\\car_fueling.cpp\n",
      "C:\\Users\\chira\\Desktop\\CPP practice problems\\Greedy Algorithms\\change.cpp\n",
      "C:\\Users\\chira\\Desktop\\CPP practice problems\\Greedy Algorithms\\cover_segments.cpp\n",
      "C:\\Users\\chira\\Desktop\\CPP practice problems\\Greedy Algorithms\\fractional_knapsack.cpp\n",
      "C:\\Users\\chira\\Desktop\\CPP practice problems\\Greedy Algorithms\\maximum69number.cpp\n",
      "C:\\Users\\chira\\Desktop\\CPP practice problems\\Greedy Algorithms\\maxRevenue.cpp\n",
      "C:\\Users\\chira\\Desktop\\CPP practice problems\\Hash Tables\\hash_chains.cpp\n",
      "C:\\Users\\chira\\Desktop\\CPP practice problems\\Hash Tables\\phone_book.cpp\n",
      "C:\\Users\\chira\\Desktop\\CPP practice problems\\Hash Tables\\RabinKarp.cpp\n",
      "C:\\Users\\chira\\Desktop\\CPP practice problems\\Hash Tables\\substringEqualityNaive.cpp\n",
      "C:\\Users\\chira\\Desktop\\CPP practice problems\\Linked Lists\\AddTwonumbers.cpp\n",
      "C:\\Users\\chira\\Desktop\\CPP practice problems\\Linked Lists\\Convert Binary Number in a Linked List to Integer.cpp\n",
      "C:\\Users\\chira\\Desktop\\CPP practice problems\\Linked Lists\\DeleteNthNodeFromEnd.cpp\n",
      "C:\\Users\\chira\\Desktop\\CPP practice problems\\Linked Lists\\HasCycle.cpp\n",
      "C:\\Users\\chira\\Desktop\\CPP practice problems\\Linked Lists\\IntersectionLinkedList.cpp\n",
      "C:\\Users\\chira\\Desktop\\CPP practice problems\\Linked Lists\\MergeTwoSortedLinkedLists.cpp\n",
      "C:\\Users\\chira\\Desktop\\CPP practice problems\\Linked Lists\\Middle of the Linked List.cpp\n",
      "C:\\Users\\chira\\Desktop\\CPP practice problems\\Linked Lists\\RotateLinkedList.cpp\n",
      "C:\\Users\\chira\\Desktop\\CPP practice problems\\Linked Lists\\RotateList_O(1)space.cpp\n",
      "C:\\Users\\chira\\Desktop\\CPP practice problems\\Linked Lists\\SwapNodesInPairs.cpp\n",
      "C:\\Users\\chira\\Desktop\\CPP practice problems\\Math\\countNumFactors.cpp\n",
      "C:\\Users\\chira\\Desktop\\CPP practice problems\\Math\\CountPrimes.cpp\n",
      "C:\\Users\\chira\\Desktop\\CPP practice problems\\Math\\GCD.cpp\n",
      "C:\\Users\\chira\\Desktop\\CPP practice problems\\Math\\kthLargestFactor.cpp\n",
      "C:\\Users\\chira\\Desktop\\CPP practice problems\\Math\\NumberIsPalindrome.cpp\n",
      "C:\\Users\\chira\\Desktop\\CPP practice problems\\Math\\PrimeFactors.cpp\n",
      "C:\\Users\\chira\\Desktop\\CPP practice problems\\Math\\TrailingZerosFactorial.cpp\n",
      "C:\\Users\\chira\\Desktop\\CPP practice problems\\Priority queues and Disjoint sets\\BuildHeap.cpp\n",
      "C:\\Users\\chira\\Desktop\\CPP practice problems\\Priority queues and Disjoint sets\\job_queue.cpp\n",
      "C:\\Users\\chira\\Desktop\\CPP practice problems\\Priority queues and Disjoint sets\\merging_tables_new.cpp\n",
      "C:\\Users\\chira\\Desktop\\CPP practice problems\\Priority queues and Disjoint sets\\Number of Province.cpp\n",
      "C:\\Users\\chira\\Desktop\\CPP practice problems\\Priority queues and Disjoint sets\\SkylineProblem.cpp\n",
      "C:\\Users\\chira\\Desktop\\CPP practice problems\\Priority queues and Disjoint sets\\Top k numbers in a stream.cpp\n",
      "C:\\Users\\chira\\Desktop\\CPP practice problems\\Sliding window\\CountNumberOfAnagrams_slidingWindow.cpp\n",
      "C:\\Users\\chira\\Desktop\\CPP practice problems\\Sliding window\\FindFIrstNegativeInt_SlidingWindow.cpp\n",
      "C:\\Users\\chira\\Desktop\\CPP practice problems\\Sliding window\\LongestK_uniq_char_substring_VarslidingWindows.cpp\n",
      "C:\\Users\\chira\\Desktop\\CPP practice problems\\Sliding window\\MaxSubarraysSizeK_SlidingWindows.cpp\n",
      "C:\\Users\\chira\\Desktop\\CPP practice problems\\Sliding window\\MinimumWindowSubstring_VarSlidingWindow.cpp\n",
      "C:\\Users\\chira\\Desktop\\CPP practice problems\\Stacks & Queues\\BracketBalancing.cpp\n",
      "C:\\Users\\chira\\Desktop\\CPP practice problems\\Stacks & Queues\\Queue_process_packages.cpp\n",
      "C:\\Users\\chira\\Desktop\\CPP practice problems\\Stacks & Queues\\stack_with_max(Auxiliary stack).cpp\n",
      "C:\\Users\\chira\\Desktop\\CPP practice problems\\Strings\\AddNum.cpp\n",
      "C:\\Users\\chira\\Desktop\\CPP practice problems\\Strings\\GroupAnagrams.cpp\n",
      "C:\\Users\\chira\\Desktop\\CPP practice problems\\Strings\\LongestPalindrome.cpp\n",
      "C:\\Users\\chira\\Desktop\\CPP practice problems\\Strings\\LongestPalindromeSubstring.cpp\n",
      "C:\\Users\\chira\\Desktop\\CPP practice problems\\Strings\\PartitionLabels.cpp\n",
      "C:\\Users\\chira\\Desktop\\CPP practice problems\\Strings\\UniqueEmailAddresses.cpp\n",
      "C:\\Users\\chira\\Desktop\\CPP practice problems\\Strings\\WordPattern.cpp\n",
      "C:\\Users\\chira\\Desktop\\CPP practice problems\\Tree\\Binary Tree paths.cpp\n",
      "C:\\Users\\chira\\Desktop\\CPP practice problems\\Tree\\Cousins in binary tree.cpp\n",
      "C:\\Users\\chira\\Desktop\\CPP practice problems\\Tree\\Deepest leaves sum.cpp\n",
      "C:\\Users\\chira\\Desktop\\CPP practice problems\\Tree\\Leaf-Similar Trees.cpp\n",
      "C:\\Users\\chira\\Desktop\\CPP practice problems\\Tree\\LeftViewBinaryTree.cpp\n",
      "C:\\Users\\chira\\Desktop\\CPP practice problems\\Tree\\Maximum Depth of N-ary Tree.cpp\n",
      "C:\\Users\\chira\\Desktop\\CPP practice problems\\Tree\\MirrorTree.cpp\n",
      "C:\\Users\\chira\\Desktop\\CPP practice problems\\Tree\\Path target sum.cpp\n",
      "C:\\Users\\chira\\Desktop\\CPP practice problems\\Tree\\Symmetric tree.cpp\n",
      "C:\\Users\\chira\\Desktop\\CPP practice problems\\Tree\\tempCodeRunnerFile.cpp\n",
      "C:\\Users\\chira\\Desktop\\CPP practice problems\\Tree\\tree-height_updated_gfg.cpp\n",
      "C:\\Users\\chira\\Desktop\\CPP practice problems\\Tree\\treeTraversals.cpp\n",
      "C:\\Users\\chira\\Desktop\\CPP practice problems\\Tree\\Tree_from_postorder_inorder.cpp\n",
      "C:\\Users\\chira\\Desktop\\CPP practice problems\\Tree\\VerticalSum.cpp\n",
      "C:\\Users\\chira\\Desktop\\CPP practice problems\\Trie\\Trie_implementation.cpp\n"
     ]
    }
   ],
   "source": [
    "for name in glob.glob(os.path.join(wd, '**', '*.cpp')):\n",
    "    print(name)\n"
   ]
  },
  {
   "cell_type": "code",
   "execution_count": 14,
   "metadata": {
    "scrolled": true
   },
   "outputs": [
    {
     "name": "stdout",
     "output_type": "stream",
     "text": [
      "C:\\Users\\chira\\Desktop\\CPP practice problems\\Arrays\\NextGreaterElement_II.cpp\n",
      "C:\\Users\\chira\\Desktop\\CPP practice problems\\Arrays\\NextPermutation.cpp\n",
      "C:\\Users\\chira\\Desktop\\CPP practice problems\\Arrays\\NextPermutation_digits.cpp\n"
     ]
    }
   ],
   "source": [
    "for name in glob.glob(os.path.join(wd, '**', 'Next*.cpp')):\n",
    "    print(name)\n"
   ]
  },
  {
   "cell_type": "markdown",
   "metadata": {},
   "source": [
    "# Datetime"
   ]
  },
  {
   "cell_type": "code",
   "execution_count": 37,
   "metadata": {},
   "outputs": [],
   "source": [
    "import datetime\n",
    "import pandas as pd"
   ]
  },
  {
   "cell_type": "code",
   "execution_count": 34,
   "metadata": {},
   "outputs": [
    {
     "data": {
      "text/plain": [
       "datetime.datetime(2022, 1, 19, 12, 38, 41, 150200)"
      ]
     },
     "execution_count": 34,
     "metadata": {},
     "output_type": "execute_result"
    }
   ],
   "source": [
    "timestamp = datetime.datetime.now()\n",
    "timestamp"
   ]
  },
  {
   "cell_type": "code",
   "execution_count": 35,
   "metadata": {},
   "outputs": [
    {
     "data": {
      "text/plain": [
       "'2022-01-19 12:38:41.150200'"
      ]
     },
     "execution_count": 35,
     "metadata": {},
     "output_type": "execute_result"
    }
   ],
   "source": [
    "str(timestamp)"
   ]
  },
  {
   "cell_type": "code",
   "execution_count": 36,
   "metadata": {},
   "outputs": [
    {
     "data": {
      "text/plain": [
       "datetime.datetime(2022, 1, 19, 12, 40, 11, 150200)"
      ]
     },
     "execution_count": 36,
     "metadata": {},
     "output_type": "execute_result"
    }
   ],
   "source": [
    "timestamp + datetime.timedelta(minutes = 1, seconds = 30)"
   ]
  }
 ],
 "metadata": {
  "kernelspec": {
   "display_name": "Python 3",
   "language": "python",
   "name": "python3"
  },
  "language_info": {
   "codemirror_mode": {
    "name": "ipython",
    "version": 3
   },
   "file_extension": ".py",
   "mimetype": "text/x-python",
   "name": "python",
   "nbconvert_exporter": "python",
   "pygments_lexer": "ipython3",
   "version": "3.8.6"
  }
 },
 "nbformat": 4,
 "nbformat_minor": 4
}
